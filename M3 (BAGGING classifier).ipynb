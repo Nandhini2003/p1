{
 "cells": [
  {
   "cell_type": "markdown",
   "id": "77a6b95b",
   "metadata": {},
   "source": [
    "# Model Building"
   ]
  },
  {
   "cell_type": "code",
   "execution_count": 1,
   "id": "249df74c",
   "metadata": {},
   "outputs": [
    {
     "name": "stderr",
     "output_type": "stream",
     "text": [
      "C:\\Users\\SPIRO-PYTHON1\\AppData\\Local\\Temp\\ipykernel_4716\\274915067.py:3: DeprecationWarning: \n",
      "Pyarrow will become a required dependency of pandas in the next major release of pandas (pandas 3.0),\n",
      "(to allow more performant data types, such as the Arrow string type, and better interoperability with other libraries)\n",
      "but was not found to be installed on your system.\n",
      "If this would cause problems for you,\n",
      "please provide us feedback at https://github.com/pandas-dev/pandas/issues/54466\n",
      "        \n",
      "  import pandas as pd\n"
     ]
    }
   ],
   "source": [
    "# Import the neccessary packages\n",
    "import matplotlib.pyplot as plt\n",
    "import pandas as pd\n",
    "import seaborn as sns\n",
    "import numpy"
   ]
  },
  {
   "cell_type": "code",
   "execution_count": 2,
   "id": "e5c6bbf2",
   "metadata": {},
   "outputs": [],
   "source": [
    "# Ignore the unnecssary warnings ( like software update, bugs, and so on so fourth)\n",
    "import warnings\n",
    "warnings.filterwarnings('ignore')"
   ]
  },
  {
   "cell_type": "code",
   "execution_count": 3,
   "id": "49ee5a15",
   "metadata": {},
   "outputs": [],
   "source": [
    "# Set the display max columns datasets\n",
    "pd.set_option('display.max_columns',None)"
   ]
  },
  {
   "cell_type": "code",
   "execution_count": 4,
   "id": "44c8044c",
   "metadata": {},
   "outputs": [],
   "source": [
    "# Read the dataset\n",
    "data = pd.read_csv('datasets.csv')"
   ]
  },
  {
   "cell_type": "code",
   "execution_count": 5,
   "id": "0a27918d",
   "metadata": {},
   "outputs": [],
   "source": [
    "# Remove unwanted features in this dataset.\n",
    "del data['Patient Id']\n",
    "del data['Family Name']\n",
    "del data[\"Father's name\"]\n",
    "del data[\"Father's age\"]\n",
    "del data[\"Institute Name\"]\n",
    "del data['Location of Institute']\n",
    "del data['Status']\n",
    "del data['Birth asphyxia']\n",
    "del data['H/O radiation exposure (x-ray)']\n",
    "del data['History of anomalies in previous pregnancies']\n",
    "del data['No. of previous abortion']\n",
    "del data['Birth defects']\n",
    "del data['Test 1']\n",
    "del data['Test 2']\n",
    "del data['Test 3']\n",
    "del data['Test 4']\n",
    "del data['Test 5']\n",
    "del data['Symptom 1']\n",
    "del data['Symptom 2']\n",
    "del data['Symptom 3']\n",
    "del data['Symptom 4']\n",
    "del data['Symptom 5']\n",
    "del data['Patient First Name']\n",
    "del data[\"Mother's age\"]\n",
    "del data[\"Autopsy shows birth defect (if applicable)\"]\n",
    "del data[\"Place of birth\"]\n",
    "del data[\"Disorder Subclass\"]"
   ]
  },
  {
   "cell_type": "code",
   "execution_count": 6,
   "id": "4a2a9990",
   "metadata": {},
   "outputs": [
    {
     "data": {
      "text/html": [
       "<div>\n",
       "<style scoped>\n",
       "    .dataframe tbody tr th:only-of-type {\n",
       "        vertical-align: middle;\n",
       "    }\n",
       "\n",
       "    .dataframe tbody tr th {\n",
       "        vertical-align: top;\n",
       "    }\n",
       "\n",
       "    .dataframe thead th {\n",
       "        text-align: right;\n",
       "    }\n",
       "</style>\n",
       "<table border=\"1\" class=\"dataframe\">\n",
       "  <thead>\n",
       "    <tr style=\"text-align: right;\">\n",
       "      <th></th>\n",
       "      <th>Patient Age</th>\n",
       "      <th>Genes in mother's side</th>\n",
       "      <th>Inherited from father</th>\n",
       "      <th>Maternal gene</th>\n",
       "      <th>Paternal gene</th>\n",
       "      <th>Blood cell count (mcL)</th>\n",
       "      <th>Respiratory Rate (breaths/min)</th>\n",
       "      <th>Heart Rate (rates/min</th>\n",
       "      <th>Parental consent</th>\n",
       "      <th>Follow-up</th>\n",
       "      <th>Gender</th>\n",
       "      <th>Folic acid details (peri-conceptional)</th>\n",
       "      <th>H/O serious maternal illness</th>\n",
       "      <th>H/O substance abuse</th>\n",
       "      <th>Assisted conception IVF/ART</th>\n",
       "      <th>White Blood cell count (thousand per microliter)</th>\n",
       "      <th>Blood test result</th>\n",
       "      <th>Genetic Disorder</th>\n",
       "    </tr>\n",
       "  </thead>\n",
       "  <tbody>\n",
       "    <tr>\n",
       "      <th>0</th>\n",
       "      <td>2.0</td>\n",
       "      <td>Yes</td>\n",
       "      <td>No</td>\n",
       "      <td>Yes</td>\n",
       "      <td>No</td>\n",
       "      <td>4.760603</td>\n",
       "      <td>Normal (30-60)</td>\n",
       "      <td>Normal</td>\n",
       "      <td>Yes</td>\n",
       "      <td>High</td>\n",
       "      <td>NaN</td>\n",
       "      <td>No</td>\n",
       "      <td>NaN</td>\n",
       "      <td>No</td>\n",
       "      <td>No</td>\n",
       "      <td>9.857562</td>\n",
       "      <td>NaN</td>\n",
       "      <td>Mitochondrial genetic inheritance disorders</td>\n",
       "    </tr>\n",
       "    <tr>\n",
       "      <th>1</th>\n",
       "      <td>4.0</td>\n",
       "      <td>Yes</td>\n",
       "      <td>Yes</td>\n",
       "      <td>No</td>\n",
       "      <td>No</td>\n",
       "      <td>4.910669</td>\n",
       "      <td>Tachypnea</td>\n",
       "      <td>Normal</td>\n",
       "      <td>Yes</td>\n",
       "      <td>High</td>\n",
       "      <td>NaN</td>\n",
       "      <td>Yes</td>\n",
       "      <td>Yes</td>\n",
       "      <td>Not applicable</td>\n",
       "      <td>No</td>\n",
       "      <td>5.522560</td>\n",
       "      <td>normal</td>\n",
       "      <td>NaN</td>\n",
       "    </tr>\n",
       "    <tr>\n",
       "      <th>2</th>\n",
       "      <td>6.0</td>\n",
       "      <td>Yes</td>\n",
       "      <td>No</td>\n",
       "      <td>No</td>\n",
       "      <td>No</td>\n",
       "      <td>4.893297</td>\n",
       "      <td>Normal (30-60)</td>\n",
       "      <td>Tachycardia</td>\n",
       "      <td>Yes</td>\n",
       "      <td>Low</td>\n",
       "      <td>NaN</td>\n",
       "      <td>Yes</td>\n",
       "      <td>No</td>\n",
       "      <td>NaN</td>\n",
       "      <td>Yes</td>\n",
       "      <td>NaN</td>\n",
       "      <td>normal</td>\n",
       "      <td>Multifactorial genetic inheritance disorders</td>\n",
       "    </tr>\n",
       "    <tr>\n",
       "      <th>3</th>\n",
       "      <td>12.0</td>\n",
       "      <td>Yes</td>\n",
       "      <td>No</td>\n",
       "      <td>Yes</td>\n",
       "      <td>No</td>\n",
       "      <td>4.705280</td>\n",
       "      <td>Tachypnea</td>\n",
       "      <td>Normal</td>\n",
       "      <td>Yes</td>\n",
       "      <td>High</td>\n",
       "      <td>Male</td>\n",
       "      <td>No</td>\n",
       "      <td>Yes</td>\n",
       "      <td>Not applicable</td>\n",
       "      <td>NaN</td>\n",
       "      <td>7.919321</td>\n",
       "      <td>inconclusive</td>\n",
       "      <td>Mitochondrial genetic inheritance disorders</td>\n",
       "    </tr>\n",
       "    <tr>\n",
       "      <th>4</th>\n",
       "      <td>11.0</td>\n",
       "      <td>Yes</td>\n",
       "      <td>No</td>\n",
       "      <td>NaN</td>\n",
       "      <td>Yes</td>\n",
       "      <td>4.720703</td>\n",
       "      <td>Tachypnea</td>\n",
       "      <td>Tachycardia</td>\n",
       "      <td>NaN</td>\n",
       "      <td>Low</td>\n",
       "      <td>Male</td>\n",
       "      <td>No</td>\n",
       "      <td>Yes</td>\n",
       "      <td>Not applicable</td>\n",
       "      <td>Yes</td>\n",
       "      <td>4.098210</td>\n",
       "      <td>NaN</td>\n",
       "      <td>Multifactorial genetic inheritance disorders</td>\n",
       "    </tr>\n",
       "  </tbody>\n",
       "</table>\n",
       "</div>"
      ],
      "text/plain": [
       "   Patient Age Genes in mother's side Inherited from father Maternal gene  \\\n",
       "0          2.0                    Yes                    No           Yes   \n",
       "1          4.0                    Yes                   Yes            No   \n",
       "2          6.0                    Yes                    No            No   \n",
       "3         12.0                    Yes                    No           Yes   \n",
       "4         11.0                    Yes                    No           NaN   \n",
       "\n",
       "  Paternal gene  Blood cell count (mcL) Respiratory Rate (breaths/min)  \\\n",
       "0            No                4.760603                 Normal (30-60)   \n",
       "1            No                4.910669                      Tachypnea   \n",
       "2            No                4.893297                 Normal (30-60)   \n",
       "3            No                4.705280                      Tachypnea   \n",
       "4           Yes                4.720703                      Tachypnea   \n",
       "\n",
       "  Heart Rate (rates/min Parental consent Follow-up Gender  \\\n",
       "0                Normal              Yes      High    NaN   \n",
       "1                Normal              Yes      High    NaN   \n",
       "2           Tachycardia              Yes       Low    NaN   \n",
       "3                Normal              Yes      High   Male   \n",
       "4           Tachycardia              NaN       Low   Male   \n",
       "\n",
       "  Folic acid details (peri-conceptional) H/O serious maternal illness  \\\n",
       "0                                     No                          NaN   \n",
       "1                                    Yes                          Yes   \n",
       "2                                    Yes                           No   \n",
       "3                                     No                          Yes   \n",
       "4                                     No                          Yes   \n",
       "\n",
       "  H/O substance abuse Assisted conception IVF/ART  \\\n",
       "0                  No                          No   \n",
       "1      Not applicable                          No   \n",
       "2                 NaN                         Yes   \n",
       "3      Not applicable                         NaN   \n",
       "4      Not applicable                         Yes   \n",
       "\n",
       "   White Blood cell count (thousand per microliter) Blood test result  \\\n",
       "0                                          9.857562               NaN   \n",
       "1                                          5.522560            normal   \n",
       "2                                               NaN            normal   \n",
       "3                                          7.919321      inconclusive   \n",
       "4                                          4.098210               NaN   \n",
       "\n",
       "                               Genetic Disorder  \n",
       "0   Mitochondrial genetic inheritance disorders  \n",
       "1                                           NaN  \n",
       "2  Multifactorial genetic inheritance disorders  \n",
       "3   Mitochondrial genetic inheritance disorders  \n",
       "4  Multifactorial genetic inheritance disorders  "
      ]
     },
     "execution_count": 6,
     "metadata": {},
     "output_type": "execute_result"
    }
   ],
   "source": [
    "# Check the top values\n",
    "data.head()"
   ]
  },
  {
   "cell_type": "code",
   "execution_count": 7,
   "id": "4911e309",
   "metadata": {},
   "outputs": [],
   "source": [
    "# Remove the null values\n",
    "df = data.dropna()"
   ]
  },
  {
   "cell_type": "code",
   "execution_count": 8,
   "id": "dd243821",
   "metadata": {},
   "outputs": [
    {
     "data": {
      "text/plain": [
       "Patient Age                                         0\n",
       "Genes in mother's side                              0\n",
       "Inherited from father                               0\n",
       "Maternal gene                                       0\n",
       "Paternal gene                                       0\n",
       "Blood cell count (mcL)                              0\n",
       "Respiratory Rate (breaths/min)                      0\n",
       "Heart Rate (rates/min                               0\n",
       "Parental consent                                    0\n",
       "Follow-up                                           0\n",
       "Gender                                              0\n",
       "Folic acid details (peri-conceptional)              0\n",
       "H/O serious maternal illness                        0\n",
       "H/O substance abuse                                 0\n",
       "Assisted conception IVF/ART                         0\n",
       "White Blood cell count (thousand per microliter)    0\n",
       "Blood test result                                   0\n",
       "Genetic Disorder                                    0\n",
       "dtype: int64"
      ]
     },
     "execution_count": 8,
     "metadata": {},
     "output_type": "execute_result"
    }
   ],
   "source": [
    "# Check the total number of null values.\n",
    "df.isnull().sum()"
   ]
  },
  {
   "cell_type": "code",
   "execution_count": 9,
   "id": "3a7808e3",
   "metadata": {},
   "outputs": [],
   "source": [
    "# Transform the datasets  string value into integers values or float value(Label encoder)\n",
    "from sklearn.preprocessing import LabelEncoder\n",
    "\n",
    "le = LabelEncoder()\n",
    "\n",
    "col = [\"Patient Age\", \"Genes in mother's side\",'White Blood cell count (thousand per microliter)', 'Paternal gene','Blood cell count (mcL)', 'Respiratory Rate (breaths/min)', 'Heart Rate (rates/min','Parental consent', 'Follow-up', 'Gender', 'Folic acid details (peri-conceptional)','H/O serious maternal illness', 'H/O substance abuse', 'Assisted conception IVF/ART', 'Blood test result', 'Genetic Disorder','Inherited from father', 'Maternal gene']\n",
    "\n",
    "for i in col:\n",
    "    df[i] = le.fit_transform(df[i]).astype(int)"
   ]
  },
  {
   "cell_type": "code",
   "execution_count": 10,
   "id": "a60113ea",
   "metadata": {},
   "outputs": [
    {
     "data": {
      "text/html": [
       "<div>\n",
       "<style scoped>\n",
       "    .dataframe tbody tr th:only-of-type {\n",
       "        vertical-align: middle;\n",
       "    }\n",
       "\n",
       "    .dataframe tbody tr th {\n",
       "        vertical-align: top;\n",
       "    }\n",
       "\n",
       "    .dataframe thead th {\n",
       "        text-align: right;\n",
       "    }\n",
       "</style>\n",
       "<table border=\"1\" class=\"dataframe\">\n",
       "  <thead>\n",
       "    <tr style=\"text-align: right;\">\n",
       "      <th></th>\n",
       "      <th>Patient Age</th>\n",
       "      <th>Genes in mother's side</th>\n",
       "      <th>Inherited from father</th>\n",
       "      <th>Maternal gene</th>\n",
       "      <th>Paternal gene</th>\n",
       "      <th>Blood cell count (mcL)</th>\n",
       "      <th>Respiratory Rate (breaths/min)</th>\n",
       "      <th>Heart Rate (rates/min</th>\n",
       "      <th>Parental consent</th>\n",
       "      <th>Follow-up</th>\n",
       "      <th>Gender</th>\n",
       "      <th>Folic acid details (peri-conceptional)</th>\n",
       "      <th>H/O serious maternal illness</th>\n",
       "      <th>H/O substance abuse</th>\n",
       "      <th>Assisted conception IVF/ART</th>\n",
       "      <th>White Blood cell count (thousand per microliter)</th>\n",
       "      <th>Blood test result</th>\n",
       "      <th>Genetic Disorder</th>\n",
       "    </tr>\n",
       "  </thead>\n",
       "  <tbody>\n",
       "    <tr>\n",
       "      <th>8</th>\n",
       "      <td>11</td>\n",
       "      <td>0</td>\n",
       "      <td>0</td>\n",
       "      <td>1</td>\n",
       "      <td>0</td>\n",
       "      <td>8092</td>\n",
       "      <td>1</td>\n",
       "      <td>1</td>\n",
       "      <td>0</td>\n",
       "      <td>1</td>\n",
       "      <td>2</td>\n",
       "      <td>1</td>\n",
       "      <td>1</td>\n",
       "      <td>1</td>\n",
       "      <td>0</td>\n",
       "      <td>2841</td>\n",
       "      <td>3</td>\n",
       "      <td>0</td>\n",
       "    </tr>\n",
       "    <tr>\n",
       "      <th>9</th>\n",
       "      <td>4</td>\n",
       "      <td>0</td>\n",
       "      <td>1</td>\n",
       "      <td>1</td>\n",
       "      <td>1</td>\n",
       "      <td>1978</td>\n",
       "      <td>1</td>\n",
       "      <td>1</td>\n",
       "      <td>0</td>\n",
       "      <td>1</td>\n",
       "      <td>2</td>\n",
       "      <td>1</td>\n",
       "      <td>0</td>\n",
       "      <td>1</td>\n",
       "      <td>1</td>\n",
       "      <td>2549</td>\n",
       "      <td>0</td>\n",
       "      <td>1</td>\n",
       "    </tr>\n",
       "    <tr>\n",
       "      <th>12</th>\n",
       "      <td>1</td>\n",
       "      <td>1</td>\n",
       "      <td>1</td>\n",
       "      <td>0</td>\n",
       "      <td>0</td>\n",
       "      <td>671</td>\n",
       "      <td>0</td>\n",
       "      <td>1</td>\n",
       "      <td>0</td>\n",
       "      <td>0</td>\n",
       "      <td>2</td>\n",
       "      <td>1</td>\n",
       "      <td>0</td>\n",
       "      <td>2</td>\n",
       "      <td>1</td>\n",
       "      <td>4347</td>\n",
       "      <td>3</td>\n",
       "      <td>0</td>\n",
       "    </tr>\n",
       "    <tr>\n",
       "      <th>14</th>\n",
       "      <td>6</td>\n",
       "      <td>1</td>\n",
       "      <td>0</td>\n",
       "      <td>1</td>\n",
       "      <td>0</td>\n",
       "      <td>720</td>\n",
       "      <td>1</td>\n",
       "      <td>1</td>\n",
       "      <td>0</td>\n",
       "      <td>0</td>\n",
       "      <td>2</td>\n",
       "      <td>1</td>\n",
       "      <td>1</td>\n",
       "      <td>0</td>\n",
       "      <td>0</td>\n",
       "      <td>0</td>\n",
       "      <td>3</td>\n",
       "      <td>0</td>\n",
       "    </tr>\n",
       "    <tr>\n",
       "      <th>18</th>\n",
       "      <td>10</td>\n",
       "      <td>1</td>\n",
       "      <td>1</td>\n",
       "      <td>1</td>\n",
       "      <td>0</td>\n",
       "      <td>1970</td>\n",
       "      <td>0</td>\n",
       "      <td>1</td>\n",
       "      <td>0</td>\n",
       "      <td>1</td>\n",
       "      <td>0</td>\n",
       "      <td>0</td>\n",
       "      <td>0</td>\n",
       "      <td>1</td>\n",
       "      <td>1</td>\n",
       "      <td>5758</td>\n",
       "      <td>0</td>\n",
       "      <td>0</td>\n",
       "    </tr>\n",
       "  </tbody>\n",
       "</table>\n",
       "</div>"
      ],
      "text/plain": [
       "    Patient Age  Genes in mother's side  Inherited from father  Maternal gene  \\\n",
       "8            11                       0                      0              1   \n",
       "9             4                       0                      1              1   \n",
       "12            1                       1                      1              0   \n",
       "14            6                       1                      0              1   \n",
       "18           10                       1                      1              1   \n",
       "\n",
       "    Paternal gene  Blood cell count (mcL)  Respiratory Rate (breaths/min)  \\\n",
       "8               0                    8092                               1   \n",
       "9               1                    1978                               1   \n",
       "12              0                     671                               0   \n",
       "14              0                     720                               1   \n",
       "18              0                    1970                               0   \n",
       "\n",
       "    Heart Rate (rates/min  Parental consent  Follow-up  Gender  \\\n",
       "8                       1                 0          1       2   \n",
       "9                       1                 0          1       2   \n",
       "12                      1                 0          0       2   \n",
       "14                      1                 0          0       2   \n",
       "18                      1                 0          1       0   \n",
       "\n",
       "    Folic acid details (peri-conceptional)  H/O serious maternal illness  \\\n",
       "8                                        1                             1   \n",
       "9                                        1                             0   \n",
       "12                                       1                             0   \n",
       "14                                       1                             1   \n",
       "18                                       0                             0   \n",
       "\n",
       "    H/O substance abuse  Assisted conception IVF/ART  \\\n",
       "8                     1                            0   \n",
       "9                     1                            1   \n",
       "12                    2                            1   \n",
       "14                    0                            0   \n",
       "18                    1                            1   \n",
       "\n",
       "    White Blood cell count (thousand per microliter)  Blood test result  \\\n",
       "8                                               2841                  3   \n",
       "9                                               2549                  0   \n",
       "12                                              4347                  3   \n",
       "14                                                 0                  3   \n",
       "18                                              5758                  0   \n",
       "\n",
       "    Genetic Disorder  \n",
       "8                  0  \n",
       "9                  1  \n",
       "12                 0  \n",
       "14                 0  \n",
       "18                 0  "
      ]
     },
     "execution_count": 10,
     "metadata": {},
     "output_type": "execute_result"
    }
   ],
   "source": [
    "# Check the data relationships\n",
    "df.head()"
   ]
  },
  {
   "cell_type": "code",
   "execution_count": 11,
   "id": "b6d2a223",
   "metadata": {},
   "outputs": [
    {
     "data": {
      "text/plain": [
       "array([0, 1, 2])"
      ]
     },
     "execution_count": 11,
     "metadata": {},
     "output_type": "execute_result"
    }
   ],
   "source": [
    "# Check the unique values in specific columns\n",
    "df['Genetic Disorder'].unique()"
   ]
  },
  {
   "cell_type": "code",
   "execution_count": 12,
   "id": "2effc45f",
   "metadata": {},
   "outputs": [],
   "source": [
    "x1 = df.drop(labels='Genetic Disorder',axis=1)\n",
    "y1 = df.loc[:,'Genetic Disorder']"
   ]
  },
  {
   "cell_type": "code",
   "execution_count": 13,
   "id": "12cd319a",
   "metadata": {},
   "outputs": [
    {
     "name": "stdout",
     "output_type": "stream",
     "text": [
      "OUR DATASET COUNT         :  Counter({0: 4380, 2: 3311, 1: 904})\n",
      "OVER SAMPLING DATA COUNT  :  Counter({0: 4380, 1: 4380, 2: 4380})\n"
     ]
    }
   ],
   "source": [
    "import imblearn\n",
    "from imblearn.over_sampling import RandomOverSampler\n",
    "from collections import Counter\n",
    "\n",
    "ros =RandomOverSampler(random_state=1)\n",
    "x,y=ros.fit_resample(x1,y1)\n",
    "print(\"OUR DATASET COUNT         : \", Counter(y1))\n",
    "print(\"OVER SAMPLING DATA COUNT  : \", Counter(y))"
   ]
  },
  {
   "cell_type": "code",
   "execution_count": 14,
   "id": "e945dc81",
   "metadata": {},
   "outputs": [],
   "source": [
    "from sklearn.model_selection import train_test_split\n",
    "\n",
    "x_train,x_test, y_train, y_test = train_test_split(x,y, test_size=0.20, shuffle=False) "
   ]
  },
  {
   "cell_type": "code",
   "execution_count": 15,
   "id": "6b5ee475",
   "metadata": {},
   "outputs": [],
   "source": [
    "from sklearn.ensemble import BaggingClassifier\n",
    "clf = BaggingClassifier()\n",
    "clf.fit(x_train, y_train)\n",
    "predicted =clf.predict(x_test)\n"
   ]
  },
  {
   "cell_type": "code",
   "execution_count": 16,
   "id": "0be92386",
   "metadata": {},
   "outputs": [
    {
     "name": "stdout",
     "output_type": "stream",
     "text": [
      "THE CONFUSION MATRIX SCORE OF BAGGING CLASSIFIER:\n",
      "\n",
      "\n",
      " [[   0    0    0]\n",
      " [  10 1548    1]\n",
      " [  27    1 1041]]\n"
     ]
    }
   ],
   "source": [
    "from sklearn.metrics import confusion_matrix\n",
    "cm = confusion_matrix(y_test,predicted)\n",
    "print('THE CONFUSION MATRIX SCORE OF BAGGING CLASSIFIER:\\n\\n\\n',cm)"
   ]
  },
  {
   "cell_type": "code",
   "execution_count": 17,
   "id": "226b054a-51e3-4da9-8a8f-16dc75fb2a7e",
   "metadata": {},
   "outputs": [
    {
     "name": "stdout",
     "output_type": "stream",
     "text": [
      "THE CROSS VALIDATION TEST RESULT OF ACCURACY :\n",
      "\n",
      "\n",
      " [46.59685864 46.71320535 47.9930192  47.9930192  47.76032577]\n"
     ]
    }
   ],
   "source": [
    "from sklearn.model_selection import cross_val_score\n",
    "accuracy = cross_val_score(clf, x1, y1, scoring='accuracy')\n",
    "print('THE CROSS VALIDATION TEST RESULT OF ACCURACY :\\n\\n\\n', accuracy*100)"
   ]
  },
  {
   "cell_type": "code",
   "execution_count": 18,
   "id": "89d6f008-2f95-492e-a7bf-dc6110925cd0",
   "metadata": {},
   "outputs": [
    {
     "name": "stdout",
     "output_type": "stream",
     "text": [
      "THE ACCURACY SCORE OF BAGGING CLASSIFIER IS : 98.51598173515981\n"
     ]
    }
   ],
   "source": [
    "from sklearn.metrics import accuracy_score\n",
    "a = accuracy_score(y_test,predicted)\n",
    "print(\"THE ACCURACY SCORE OF BAGGING CLASSIFIER IS :\",a*100)"
   ]
  },
  {
   "cell_type": "code",
   "execution_count": 19,
   "id": "9d479523-a919-40c1-aef1-d47496541aac",
   "metadata": {},
   "outputs": [
    {
     "name": "stdout",
     "output_type": "stream",
     "text": [
      "THE HAMMING LOSS OF BAGGING CLASSIFIER IS : 1.4840182648401825\n"
     ]
    }
   ],
   "source": [
    "from sklearn.metrics import hamming_loss\n",
    "hl = hamming_loss(y_test,predicted)\n",
    "\n",
    "print(\"THE HAMMING LOSS OF BAGGING CLASSIFIER IS :\",hl*100)"
   ]
  },
  {
   "cell_type": "code",
   "execution_count": 20,
   "id": "32c552a5",
   "metadata": {},
   "outputs": [
    {
     "name": "stdout",
     "output_type": "stream",
     "text": [
      "Classification Report\n",
      "\n",
      "               precision    recall  f1-score   support\n",
      "\n",
      "           0       0.00      0.00      0.00         0\n",
      "           1       1.00      0.99      1.00      1559\n",
      "           2       1.00      0.97      0.99      1069\n",
      "\n",
      "    accuracy                           0.99      2628\n",
      "   macro avg       0.67      0.66      0.66      2628\n",
      "weighted avg       1.00      0.99      0.99      2628\n",
      "\n"
     ]
    }
   ],
   "source": [
    "from sklearn.metrics import classification_report\n",
    "\n",
    "report = classification_report(y_test, predicted)\n",
    "print(\"Classification Report\\n\\n\",report)"
   ]
  },
  {
   "cell_type": "code",
   "execution_count": 21,
   "id": "0039a495",
   "metadata": {},
   "outputs": [
    {
     "name": "stdout",
     "output_type": "stream",
     "text": [
      "THE CONFUSION MATRIX SCORE OF BAGGING CLASSIFIER:\n",
      "\n",
      "\n",
      "[[   0    0    0]\n",
      " [  10 1548    1]\n",
      " [  27    1 1041]]\n"
     ]
    },
    {
     "data": {
      "image/png": "[encoded data removed]",
      "text/plain": [
       "<Figure size 640x480 with 2 Axes>"
      ]
     },
     "metadata": {},
     "output_type": "display_data"
    }
   ],
   "source": [
    "import numpy as np\n",
    "def plot_confusion_matrix(cm, title='THE CONFUSION MATRIX SCORE OF BAGGING CLASSIFIER\\n\\n', cmap=plt.cm.Blues):\n",
    "    target_names=['']\n",
    "    plt.imshow(cm, interpolation='nearest', cmap=cmap)\n",
    "    plt.title(title)\n",
    "    plt.colorbar()\n",
    "    tick_marks = np.arange(len(target_names))\n",
    "    plt.xticks(tick_marks, target_names, rotation=45)\n",
    "    plt.yticks(tick_marks, target_names)\n",
    "    plt.tight_layout()\n",
    "    plt.ylabel('True label')\n",
    "    plt.xlabel('Predicted label')\n",
    "\n",
    "cm=confusion_matrix(y_test, predicted)\n",
    "print('THE CONFUSION MATRIX SCORE OF BAGGING CLASSIFIER:\\n\\n')\n",
    "print(cm)\n",
    "\n",
    "sns.heatmap(cm/np.sum(cm), annot=True, cmap = 'cividis', annot_kws={\"size\": 16},fmt='.2%')\n",
    "plt.show()"
   ]
  },
  {
   "cell_type": "code",
   "execution_count": 22,
   "id": "1811dd58",
   "metadata": {},
   "outputs": [
    {
     "data": {
      "image/png": "[encoded data removed]",
      "text/plain": [
       "<Figure size 500x500 with 1 Axes>"
      ]
     },
     "metadata": {},
     "output_type": "display_data"
    }
   ],
   "source": [
    "def graph():\n",
    "    import matplotlib.pyplot as plt\n",
    "    data=[a]\n",
    "    alg=\"BAGGING CLASSIFIER\"\n",
    "    plt.figure(figsize=(5,5))\n",
    "    b=plt.bar(alg,data,color=(\"RED\"))\n",
    "    plt.title(\"THE ACCURACY SCORE OF BAGGING CLASSIFIER IS\\n\\n\\n\")\n",
    "    plt.legend(b,data,fontsize=9)\n",
    "graph()"
   ]
  },
  {
   "cell_type": "code",
   "execution_count": null,
   "id": "d1eae1d8",
   "metadata": {},
   "outputs": [],
   "source": []
  }
 ],
 "metadata": {
  "kernelspec": {
   "display_name": "Python 3 (ipykernel)",
   "language": "python",
   "name": "python3"
  },
  "language_info": {
   "codemirror_mode": {
    "name": "ipython",
    "version": 3
   },
   "file_extension": ".py",
   "mimetype": "text/x-python",
   "name": "python",
   "nbconvert_exporter": "python",
   "pygments_lexer": "ipython3",
   "version": "3.9.18"
  }
 },
 "nbformat": 4,
 "nbformat_minor": 5
}
