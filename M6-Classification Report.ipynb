{
 "cells": [
  {
   "cell_type": "markdown",
   "id": "e9387c2a",
   "metadata": {},
   "source": [
    "## REPORT"
   ]
  },
  {
   "cell_type": "code",
   "execution_count": 1,
   "id": "bc317dc5-9786-4f6d-8a87-1da8b2f836d0",
   "metadata": {},
   "outputs": [
    {
     "data": {
      "application/vnd.jupyter.widget-view+json": {
       "model_id": "b033bee62db74cc79bed6918b12e1a0a",
       "version_major": 2,
       "version_minor": 0
      },
      "text/plain": [
       "Summarize dataset:   0%|          | 0/5 [00:00<?, ?it/s]"
      ]
     },
     "metadata": {},
     "output_type": "display_data"
    },
    {
     "data": {
      "application/vnd.jupyter.widget-view+json": {
       "model_id": "54ea16f57c9b4078ae3ae2950975b422",
       "version_major": 2,
       "version_minor": 0
      },
      "text/plain": [
       "Generate report structure:   0%|          | 0/1 [00:00<?, ?it/s]"
      ]
     },
     "metadata": {},
     "output_type": "display_data"
    },
    {
     "data": {
      "application/vnd.jupyter.widget-view+json": {
       "model_id": "7cd8effbea3244ffaafcd104330a2907",
       "version_major": 2,
       "version_minor": 0
      },
      "text/plain": [
       "Render HTML:   0%|          | 0/1 [00:00<?, ?it/s]"
      ]
     },
     "metadata": {},
     "output_type": "display_data"
    },
    {
     "data": {
      "application/vnd.jupyter.widget-view+json": {
       "model_id": "9022cb81858645f39edc69459d82908f",
       "version_major": 2,
       "version_minor": 0
      },
      "text/plain": [
       "Export report to file:   0%|          | 0/1 [00:00<?, ?it/s]"
      ]
     },
     "metadata": {},
     "output_type": "display_data"
    },
    {
     "name": "stdout",
     "output_type": "stream",
     "text": [
      "Metrics report saved as Metrics_report.html\n"
     ]
    }
   ],
   "source": [
    "import warnings\n",
    "warnings.filterwarnings('ignore')\n",
    "import pandas as pd\n",
    "from ydata_profiling import ProfileReport\n",
    "from sklearn.model_selection import train_test_split\n",
    "from sklearn.ensemble import RandomForestClassifier\n",
    "from sklearn.metrics import confusion_matrix, classification_report, accuracy_score\n",
    "from imblearn.over_sampling import SMOTE\n",
    "import seaborn as sns\n",
    "import matplotlib.pyplot as plt\n",
    "from io import BytesIO\n",
    "import base64\n",
    "from IPython.core.display import HTML\n",
    "\n",
    "# Sample dataframe\n",
    "data = pd.read_csv('datasets.csv')\n",
    "# Remove unwanted features in this dataset.\n",
    "# Remove unwanted features in this dataset.\n",
    "del data['Patient Id']\n",
    "del data['Family Name']\n",
    "del data[\"Father's name\"]\n",
    "del data[\"Father's age\"]\n",
    "del data[\"Institute Name\"]\n",
    "del data['Location of Institute']\n",
    "del data['Birth asphyxia']\n",
    "del data['H/O radiation exposure (x-ray)']\n",
    "del data['History of anomalies in previous pregnancies']\n",
    "del data['No. of previous abortion']\n",
    "del data['Birth defects']\n",
    "del data['Patient First Name']\n",
    "del data[\"Mother's age\"]\n",
    "del data[\"Autopsy shows birth defect (if applicable)\"]\n",
    "del data[\"Place of birth\"]\n",
    "del data[\"H/O substance abuse\"]\n",
    "data.head()\n",
    "\n",
    "data.columns\n",
    "\n",
    "data = data.dropna()\n",
    "\n",
    "df = data.rename({'Patient Age':'patient_age','Disorder Subclass':'Disorder_Subclass',\"Genes in mother's side\":'genes_in_motherside','Inherited from father':'inherited_from_father',\n",
    "          'Maternal gene':'maternal_gene','Paternal gene':'paternal_gene','Blood cell count (mcL)':'blood_cell_count','Respiratory Rate (breaths/min)':'respiratory_rate_breaths','Heart Rate (rates/min':'heartrate_rates',\n",
    "          'Parental consent':'parental_consent','Follow-up':'follow_up','Gender':'gender','Folic acid details (peri-conceptional)':'folic_acid_details_periconceptional','H/O serious maternal illness':'serious_maternal_illness',\n",
    "          'H/O substance abuse':'substance_abuse','Assisted conception IVF/ART':'assisted_conception_IVF_ART','White Blood cell count (thousand per microliter)':'white_blood_cell_count_thousand_per_microliter', 'Blood test result': 'blood_test_result', 'Genetic Disorder':'genetic_disorder'},axis=1)\n",
    "# Transform the datasets  string value into integers values or float value(Label encoder)\n",
    "from sklearn.preprocessing import LabelEncoder\n",
    "\n",
    "le = LabelEncoder()\n",
    "\n",
    "col = [\"patient_age\", \"genes_in_motherside\",'inherited_from_father','Status', 'maternal_gene','paternal_gene', 'respiratory_rate_breaths','heartrate_rates', 'parental_consent', 'follow_up', 'gender','folic_acid_details_periconceptional', 'serious_maternal_illness', 'assisted_conception_IVF_ART','blood_test_result','Disorder_Subclass', 'genetic_disorder']\n",
    "\n",
    "for i in col:\n",
    "    df[i] = le.fit_transform(df[i]).astype(int)\n",
    "\n",
    "# Generate basic data profiling report\n",
    "prof = ProfileReport(df)\n",
    "prof.to_file(output_file='Basic_report.html')\n",
    "\n",
    "# Split the data\n",
    "X = df.drop(\"genetic_disorder\", axis=1)\n",
    "y = df[\"genetic_disorder\"]\n",
    "# Apply SMOTE to handle class imbalance\n",
    "smote = SMOTE(random_state=42)\n",
    "X_resampled, y_resampled = smote.fit_resample(X, y)\n",
    "\n",
    "# Split the resampled data\n",
    "X_train, X_test, y_train, y_test = train_test_split(X_resampled, y_resampled, test_size=0.2, random_state=42)\n",
    "\n",
    "# Train Random Forest Classifier\n",
    "clf = RandomForestClassifier(random_state=42)\n",
    "clf.fit(X_train, y_train)\n",
    "y_pred = clf.predict(X_test)\n",
    "\n",
    "# Calculate accuracy\n",
    "accuracy = accuracy_score(y_test, y_pred)\n",
    "\n",
    "# Generate Confusion Matrix\n",
    "cm = confusion_matrix(y_test, y_pred)\n",
    "fig, ax = plt.subplots()\n",
    "sns.heatmap(cm, annot=True, fmt='d', cmap='Blues', ax=ax)\n",
    "ax.set_xlabel('Predicted')\n",
    "ax.set_ylabel('Actual')\n",
    "ax.set_title('Confusion Matrix')\n",
    "\n",
    "# Save confusion matrix plot to HTML-compatible format\n",
    "buf = BytesIO()\n",
    "plt.savefig(buf, format='png')\n",
    "plt.close(fig)\n",
    "buf.seek(0)\n",
    "img_str = base64.b64encode(buf.read()).decode('utf-8')\n",
    "img_tag = f'<img src=\"data:image/png;base64,{img_str}\" />'\n",
    "\n",
    "# Generate Classification Report\n",
    "class_report = classification_report(y_test, y_pred, output_dict=True)\n",
    "class_report_df = pd.DataFrame(class_report).transpose()\n",
    "\n",
    "# Convert classification report dataframe to HTML\n",
    "class_report_html = class_report_df.to_html()\n",
    "\n",
    "# Create a separate report HTML for metrics\n",
    "metrics_html = f\"\"\"\n",
    "<!DOCTYPE html>\n",
    "<html>\n",
    "<head>\n",
    "    <title>Metrics Report</title>\n",
    "</head>\n",
    "<body>\n",
    "    <h1>Metrics Report</h1>\n",
    "    <h2>Confusion Matrix</h2>\n",
    "    {img_tag}\n",
    "    <h2>Classification Report</h2>\n",
    "    {class_report_html}\n",
    "    <h2>Accuracy</h2>\n",
    "    <p>{accuracy}</p>\n",
    "</body>\n",
    "</html>\n",
    "\"\"\"\n",
    "\n",
    "# Save the metrics report to a new HTML file\n",
    "with open('Metrics_report.html', 'w') as file:\n",
    "    file.write(metrics_html)\n",
    "\n",
    "print(\"Metrics report saved as Metrics_report.html\")"
   ]
  },
  {
   "cell_type": "code",
   "execution_count": null,
   "id": "41f0c31d-ec32-41c7-b57f-f3e49c2e8376",
   "metadata": {},
   "outputs": [],
   "source": []
  }
 ],
 "metadata": {
  "kernelspec": {
   "display_name": "Python 3 (ipykernel)",
   "language": "python",
   "name": "python3"
  },
  "language_info": {
   "codemirror_mode": {
    "name": "ipython",
    "version": 3
   },
   "file_extension": ".py",
   "mimetype": "text/x-python",
   "name": "python",
   "nbconvert_exporter": "python",
   "pygments_lexer": "ipython3",
   "version": "3.11.5"
  }
 },
 "nbformat": 4,
 "nbformat_minor": 5
}
